{
 "cells": [
  {
   "cell_type": "code",
   "execution_count": 1,
   "id": "c3210de9-8693-4778-be72-7bcb52fe7d0b",
   "metadata": {},
   "outputs": [
    {
     "name": "stdout",
     "output_type": "stream",
     "text": [
      "Welcome to the Guess the Number game!\n",
      "I have chosen a number between 1 and 100. Can you guess what it is?\n"
     ]
    },
    {
     "name": "stdin",
     "output_type": "stream",
     "text": [
      "Enter your guess (1-100):  50\n"
     ]
    },
    {
     "name": "stdout",
     "output_type": "stream",
     "text": [
      "Too low! Try again.\n"
     ]
    },
    {
     "name": "stdin",
     "output_type": "stream",
     "text": [
      "Enter your guess (1-100):  80\n"
     ]
    },
    {
     "name": "stdout",
     "output_type": "stream",
     "text": [
      "Too high! Try again.\n"
     ]
    },
    {
     "name": "stdin",
     "output_type": "stream",
     "text": [
      "Enter your guess (1-100):  70\n"
     ]
    },
    {
     "name": "stdout",
     "output_type": "stream",
     "text": [
      "Too high! Try again.\n"
     ]
    },
    {
     "name": "stdin",
     "output_type": "stream",
     "text": [
      "Enter your guess (1-100):  60\n"
     ]
    },
    {
     "name": "stdout",
     "output_type": "stream",
     "text": [
      "Too high! Try again.\n"
     ]
    },
    {
     "name": "stdin",
     "output_type": "stream",
     "text": [
      "Enter your guess (1-100):  55\n"
     ]
    },
    {
     "name": "stdout",
     "output_type": "stream",
     "text": [
      "Too low! Try again.\n"
     ]
    },
    {
     "name": "stdin",
     "output_type": "stream",
     "text": [
      "Enter your guess (1-100):  56\n"
     ]
    },
    {
     "name": "stdout",
     "output_type": "stream",
     "text": [
      "Congratulations! You guessed it right in 6 attempts.\n",
      "Thank you for playing the Guess the Number game!\n"
     ]
    }
   ],
   "source": [
    "\"\"\"Implement a simple Guess the Number game in Python. In the game, the user has to guess a randomly generated number. Use branching, looping, and flow control\n",
    "    statements to manage the game's flow. Some salient features of the game implementation is as follows:\n",
    "    a) Use the random module to generate a random number between a specified range. This will be the number the user needs to guess.\n",
    "    b) Use a while loop to repeatedly prompt the user for their guess until they correctly guess the number.\n",
    "    c) Use if..else statements to check if the user's guess is correct, too high, or too low. Provide appropriate feedback.\n",
    "    d) Introduce flow control statements like continue to skip certain parts of the loop or break to exit the loop when the correct guess is made.\"\"\"\n",
    "    \n",
    "import random\n",
    "\n",
    "def guess_the_number():\n",
    "    print(\"Welcome to the Guess the Number game!\")\n",
    "    print(\"I have chosen a number between 1 and 100. Can you guess what it is?\")\n",
    "    \n",
    "    # Generate a random number between 1 and 100\n",
    "    number_to_guess = random.randint(1, 100)\n",
    "    attempts = 0\n",
    "    \n",
    "    while True:\n",
    "        try:\n",
    "            # Prompt the user for their guess\n",
    "            user_guess = int(input(\"Enter your guess (1-100): \"))\n",
    "            \n",
    "            # Increment the attempts counter\n",
    "            attempts += 1\n",
    "            \n",
    "            # Check if the user's guess is correct, too high, or too low\n",
    "            if user_guess < 1 or user_guess > 100:\n",
    "                print(\"Please guess a number within the range 1-100.\")\n",
    "                continue\n",
    "            \n",
    "            if user_guess < number_to_guess:\n",
    "                print(\"Too low! Try again.\")\n",
    "            elif user_guess > number_to_guess:\n",
    "                print(\"Too high! Try again.\")\n",
    "            else:\n",
    "                print(f\"Congratulations! You guessed it right in {attempts} attempts.\")\n",
    "                break\n",
    "        except ValueError:\n",
    "            print(\"Invalid input! Please enter a valid integer.\")\n",
    "    \n",
    "    print(\"Thank you for playing the Guess the Number game!\")\n",
    "\n",
    "# Run the game\n",
    "guess_the_number()"
   ]
  },
  {
   "cell_type": "code",
   "execution_count": null,
   "id": "cfb172fd-2188-432b-9b00-ea40c573de8f",
   "metadata": {},
   "outputs": [],
   "source": [
    "# yoursort.py\n",
    "\n",
    "# Bubble Sort\n",
    "def bubble_sort(lst):\n",
    "    n = len(lst)\n",
    "    for i in range(n):\n",
    "        for j in range(n - i - 1):\n",
    "            if lst[j] > lst[j + 1]:\n",
    "                lst[j], lst[j + 1] = lst[j + 1], lst[j]\n",
    "\n",
    "# Insertion Sort\n",
    "def insertion_sort(lst):\n",
    "    for i in range(1, len(lst)):\n",
    "        key = lst[i]\n",
    "        j = i - 1\n",
    "        while j >= 0 and lst[j] > key:\n",
    "            lst[j + 1] = lst[j]\n",
    "            j -= 1\n",
    "        lst[j + 1] = key\n",
    "\n",
    "# Selection Sort\n",
    "def selection_sort(lst):\n",
    "    for i in range(len(lst)):\n",
    "        min_idx = i\n",
    "        for j in range(i + 1, len(lst)):\n",
    "            if lst[j] < lst[min_idx]:\n",
    "                min_idx = j\n",
    "        lst[i], lst[min_idx] = lst[min_idx], lst[i]"
   ]
  },
  {
   "cell_type": "code",
   "execution_count": null,
   "id": "1306c6f1-7418-4d61-8a8d-b4232d3ef271",
   "metadata": {},
   "outputs": [],
   "source": [
    "# yoursearch.py\n",
    "\n",
    "# Linear Search\n",
    "def linear_search(lst, key):\n",
    "    return next((i for i, val in enumerate(lst) if val == key), -1)\n",
    "\n",
    "# Binary Search (assumes the list is sorted)\n",
    "def binary_search(lst, key):\n",
    "    def search(low, high):\n",
    "        if low > high:\n",
    "            return -1\n",
    "        mid = (low + high) // 2\n",
    "        if lst[mid] == key:\n",
    "            return mid\n",
    "        elif lst[mid] < key:\n",
    "            return search(mid + 1, high)\n",
    "        else:\n",
    "            return search(low, mid - 1)\n",
    "    \n",
    "    return search(0, len(lst) - 1)"
   ]
  },
  {
   "cell_type": "code",
   "execution_count": 2,
   "id": "81db3043-c30a-4401-8819-63952ed72418",
   "metadata": {},
   "outputs": [
    {
     "name": "stdin",
     "output_type": "stream",
     "text": [
      "Enter the number of elements in the list:  10\n"
     ]
    },
    {
     "name": "stdout",
     "output_type": "stream",
     "text": [
      "Generated list: [45, 21, 17, 83, 49, 79, 25, 64, 72, 27]\n",
      "\n",
      "Sorting Algorithms:\n",
      "1. Bubble Sort\n",
      "2. Insertion Sort\n",
      "3. Selection Sort\n"
     ]
    },
    {
     "name": "stdin",
     "output_type": "stream",
     "text": [
      "Choose a sorting algorithm (1-3):  1\n"
     ]
    },
    {
     "name": "stdout",
     "output_type": "stream",
     "text": [
      "List after Bubble Sort: [17, 21, 25, 27, 45, 49, 64, 72, 79, 83]\n"
     ]
    },
    {
     "name": "stdin",
     "output_type": "stream",
     "text": [
      "\n",
      "Enter the key to search for:  45\n"
     ]
    },
    {
     "name": "stdout",
     "output_type": "stream",
     "text": [
      "\n",
      "Search Algorithms:\n",
      "1. Linear Search\n",
      "2. Binary Search (List must be sorted)\n"
     ]
    },
    {
     "name": "stdin",
     "output_type": "stream",
     "text": [
      "Choose a search algorithm (1-2):  2\n"
     ]
    },
    {
     "name": "stdout",
     "output_type": "stream",
     "text": [
      "Binary Search: Key found at index 4\n"
     ]
    }
   ],
   "source": [
    "import random\n",
    "import yoursearch\n",
    "import yoursort\n",
    "\n",
    "def main():\n",
    "    # Generate a random list of elements\n",
    "    n = int(input(\"Enter the number of elements in the list: \"))\n",
    "    lst = [random.randint(1, 100) for _ in range(n)]\n",
    "    print(\"Generated list:\", lst)\n",
    "\n",
    "    # Prompt user for sorting method\n",
    "    print(\"\\nSorting Algorithms:\")\n",
    "    print(\"1. Bubble Sort\")\n",
    "    print(\"2. Insertion Sort\")\n",
    "    print(\"3. Selection Sort\")\n",
    "    sort_choice = int(input(\"Choose a sorting algorithm (1-3): \"))\n",
    "\n",
    "    if sort_choice == 1:\n",
    "        yoursort.bubble_sort(lst)\n",
    "        print(\"List after Bubble Sort:\", lst)\n",
    "    elif sort_choice == 2:\n",
    "        yoursort.insertion_sort(lst)\n",
    "        print(\"List after Insertion Sort:\", lst)\n",
    "    elif sort_choice == 3:\n",
    "        yoursort.selection_sort(lst)\n",
    "        print(\"List after Selection Sort:\", lst)\n",
    "    else:\n",
    "        print(\"Invalid choice. Exiting.\")\n",
    "        return\n",
    "\n",
    "    # Prompt user for a search key\n",
    "    key = int(input(\"\\nEnter the key to search for: \"))\n",
    "\n",
    "    # Prompt user for search method\n",
    "    print(\"\\nSearch Algorithms:\")\n",
    "    print(\"1. Linear Search\")\n",
    "    print(\"2. Binary Search (List must be sorted)\")\n",
    "    search_choice = int(input(\"Choose a search algorithm (1-2): \"))\n",
    "\n",
    "    if search_choice == 1:\n",
    "        index = yoursearch.linear_search(lst, key)\n",
    "        print(f\"Linear Search: Key found at index {index}\" if index != -1 else \"Key not found.\")\n",
    "    elif search_choice == 2:\n",
    "        index = yoursearch.binary_search(lst, key)\n",
    "        print(f\"Binary Search: Key found at index {index}\" if index != -1 else \"Key not found.\")\n",
    "    else:\n",
    "        print(\"Invalid choice. Exiting.\")\n",
    "\n",
    "if __name__ == \"__main__\":\n",
    "    main()"
   ]
  },
  {
   "cell_type": "code",
   "execution_count": null,
   "id": "45a2be91-0408-49b4-aba2-50f20d7c939a",
   "metadata": {},
   "outputs": [],
   "source": []
  }
 ],
 "metadata": {
  "kernelspec": {
   "display_name": "Python 3 (ipykernel)",
   "language": "python",
   "name": "python3"
  },
  "language_info": {
   "codemirror_mode": {
    "name": "ipython",
    "version": 3
   },
   "file_extension": ".py",
   "mimetype": "text/x-python",
   "name": "python",
   "nbconvert_exporter": "python",
   "pygments_lexer": "ipython3",
   "version": "3.12.5"
  }
 },
 "nbformat": 4,
 "nbformat_minor": 5
}
