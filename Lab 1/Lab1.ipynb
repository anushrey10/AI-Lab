{
 "cells": [
  {
   "cell_type": "code",
   "execution_count": 1,
   "id": "4b746e4f-2a29-4136-980e-b4fac62b52fa",
   "metadata": {},
   "outputs": [
    {
     "name": "stdin",
     "output_type": "stream",
     "text": [
      "Enter the first number:  20\n",
      "Enter the second number:  10\n"
     ]
    },
    {
     "name": "stdout",
     "output_type": "stream",
     "text": [
      "The result of adding 20 and 10 is: 30\n"
     ]
    }
   ],
   "source": [
    "\"\"\"Create a program that takes two numbers as input, adds them, and\n",
    "prints the result. Ensure they handle cases where the inputs might be\n",
    "strings (requiring type conversion).\"\"\"\n",
    "\n",
    "def add_numbers():\n",
    "        num1 = input(\"Enter the first number: \")\n",
    "        num2 = input(\"Enter the second number: \")\n",
    "        \n",
    "        num1 = int(num1)\n",
    "        num2 = int(num2)\n",
    "        \n",
    "        result = num1 + num2\n",
    "        \n",
    "        print(f\"The result of adding {num1} and {num2} is: {result}\")\n",
    "\n",
    "add_numbers()"
   ]
  },
  {
   "cell_type": "code",
   "execution_count": 2,
   "id": "7e23cb8c-1ea6-43d8-878d-0b3c7c15c12b",
   "metadata": {},
   "outputs": [
    {
     "name": "stdin",
     "output_type": "stream",
     "text": [
      "Enter length of rectangle :  10\n",
      "Enter width of rectangle :  6\n"
     ]
    },
    {
     "name": "stdout",
     "output_type": "stream",
     "text": [
      "Area of rectangle = 60\n",
      "Area of square = 9.0\n",
      "Area of rectangle is greater than Area of square\n"
     ]
    }
   ],
   "source": [
    "\"\"\"Write a program that calculates the area of a rectangle using user-input length and width, and then compare it with the area of a square with side length half of the rectangle's width.\"\"\"\n",
    "\n",
    "def area():\n",
    "        length = input(\"Enter length of rectangle : \")\n",
    "        width = input(\"Enter width of rectangle : \") \n",
    "\n",
    "        length = int(length)\n",
    "        width = int(width)\n",
    "        \n",
    "        side = width/2\n",
    "        \n",
    "        arec = length*width\n",
    "        asqr = side*side\n",
    "        \n",
    "        print(f\"Area of rectangle = {arec}\")\n",
    "        print(f\"Area of square = {asqr}\")\n",
    "        \n",
    "        if arec == asqr:\n",
    "            print(\"Area of rectangle is same as Area of square\")\n",
    "            \n",
    "        elif arec > asqr:\n",
    "            print(\"Area of rectangle is greater than Area of square\")\n",
    "            \n",
    "        else:\n",
    "            print(\"Area of rectangle is less than Area of square\")\n",
    "        \n",
    "    \n",
    "area()"
   ]
  },
  {
   "cell_type": "code",
   "execution_count": 4,
   "id": "ae046fbb-da97-4a68-8e4a-e45678e71374",
   "metadata": {},
   "outputs": [
    {
     "name": "stdin",
     "output_type": "stream",
     "text": [
      "Enter an integer :  21\n"
     ]
    },
    {
     "name": "stdout",
     "output_type": "stream",
     "text": [
      "21 is an odd number.\n"
     ]
    }
   ],
   "source": [
    "\"\"\"Write a program that takes an integer input, checks if it's even or\n",
    "odd, and prints a message accordingly. Additionally, use the modulo\n",
    "operation for this determination.\"\"\"\n",
    "\n",
    "def odd_even():\n",
    "        number = input(\"Enter an integer : \")\n",
    "        \n",
    "        number = int(number)\n",
    "        \n",
    "        if number%2 == 0:\n",
    "            print(f\"{number} is an Even number.\")\n",
    "            \n",
    "        else:\n",
    "            print(f\"{number} is an odd number.\")\n",
    "\n",
    "        \n",
    "odd_even()"
   ]
  },
  {
   "cell_type": "code",
   "execution_count": 5,
   "id": "4eec8279-56ec-4a7f-89e9-a0502d2a2cca",
   "metadata": {},
   "outputs": [
    {
     "name": "stdin",
     "output_type": "stream",
     "text": [
      "Enter a mathematical expression :  (10+1)*20-10\n"
     ]
    },
    {
     "name": "stdout",
     "output_type": "stream",
     "text": [
      "(10+1)*20-10 = 210\n"
     ]
    }
   ],
   "source": [
    "\"\"\"Create a Python program that functions as an advanced calculator. It\n",
    "should take user input for mathematical expressions and evaluate\n",
    "them, supporting basic operations, parentheses, and scientific\n",
    "notation.\"\"\"\n",
    "\n",
    "def simple_calculator():\n",
    "    \n",
    "    expression = input(\"Enter a mathematical expression : \")\n",
    "    \n",
    "    output = eval(expression)\n",
    "    \n",
    "    print(f\"{expression} = {output}\")\n",
    "\n",
    "simple_calculator()"
   ]
  },
  {
   "cell_type": "code",
   "execution_count": 6,
   "id": "600c27e6-a05a-44a4-85d7-df3ff00c1c4e",
   "metadata": {},
   "outputs": [
    {
     "name": "stdin",
     "output_type": "stream",
     "text": [
      "Enter the number of terms:  10\n"
     ]
    },
    {
     "name": "stdout",
     "output_type": "stream",
     "text": [
      "Fibonacci Series:\n",
      "0 1 1 2 3 5 8 13 21 34 "
     ]
    }
   ],
   "source": [
    "\"\"\"Write a Python program to generate the Fibonacci series up to a\n",
    "specified number of terms. Use a while loop and branching to\n",
    "implement the logic.\"\"\"\n",
    "\n",
    "def fibonacci_series():\n",
    "    terms = int(input(\"Enter the number of terms: \"))\n",
    "    \n",
    "    if terms <= 0:\n",
    "        print(\"Please enter a positive integer.\")\n",
    "        return\n",
    "    \n",
    "    print(\"Fibonacci Series:\")\n",
    "\n",
    "    first, second = 0, 1\n",
    "    count = 0\n",
    "\n",
    "    while count < terms:\n",
    "        print(first, end=\" \")\n",
    "        next_term = first + second\n",
    "        first = second\n",
    "        second = next_term\n",
    "        count += 1\n",
    "\n",
    "fibonacci_series()"
   ]
  },
  {
   "cell_type": "code",
   "execution_count": 8,
   "id": "d6751f0d-730f-4f83-a52f-a385ae323663",
   "metadata": {},
   "outputs": [
    {
     "name": "stdin",
     "output_type": "stream",
     "text": [
      "Enter a number:  7\n"
     ]
    },
    {
     "name": "stdout",
     "output_type": "stream",
     "text": [
      "7 is a prime number.\n"
     ]
    }
   ],
   "source": [
    "\"\"\"Create a program that takes user input and checks whether the\n",
    "entered number is a prime number or not. Utilize a for loop and\n",
    "branching statements.\"\"\"\n",
    "\n",
    "def check_prime():\n",
    "    number = int(input(\"Enter a number: \"))\n",
    "    \n",
    "    if number <= 1:\n",
    "        print(f\"{number} is not a prime number.\")\n",
    "        return\n",
    "    \n",
    "    for i in range(2, number):\n",
    "        if number % i == 0:\n",
    "            print(f\"{number} is not a prime number.\")\n",
    "            return\n",
    "    \n",
    "    print(f\"{number} is a prime number.\")\n",
    "\n",
    "check_prime()"
   ]
  },
  {
   "cell_type": "code",
   "execution_count": null,
   "id": "cc9c53d0-35da-4495-a3f8-1a8b751d431c",
   "metadata": {},
   "outputs": [],
   "source": []
  }
 ],
 "metadata": {
  "kernelspec": {
   "display_name": "Python 3 (ipykernel)",
   "language": "python",
   "name": "python3"
  },
  "language_info": {
   "codemirror_mode": {
    "name": "ipython",
    "version": 3
   },
   "file_extension": ".py",
   "mimetype": "text/x-python",
   "name": "python",
   "nbconvert_exporter": "python",
   "pygments_lexer": "ipython3",
   "version": "3.12.5"
  }
 },
 "nbformat": 4,
 "nbformat_minor": 5
}
